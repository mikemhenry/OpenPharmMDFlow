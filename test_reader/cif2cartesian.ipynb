{
 "cells": [
  {
   "cell_type": "code",
   "execution_count": 2,
   "id": "b175406b-081c-4329-8878-013ae2ad511f",
   "metadata": {},
   "outputs": [],
   "source": [
    "from pymatgen.core.structure import Structure\n",
    "\n",
    "\n",
    "xtal1 = Structure.from_file(\"molecular.cif\")\n",
    "xtal2 = Structure.from_file(\"unitcell.cif\")"
   ]
  },
  {
   "cell_type": "code",
   "execution_count": 32,
   "id": "c616242f-1bad-4ec7-be97-a5c2a2b31ad3",
   "metadata": {},
   "outputs": [],
   "source": [
    "with open(\"unitcell.xyz\", \"w\") as f:\n",
    "    for s in xtal1.sites:\n",
    "        x = s.coords[0]\n",
    "        y = s.coords[1]\n",
    "        z = s.coords[2]\n",
    "        aID = s.species_string\n",
    "        f.write(\"{}\\t{}\\t{}\\t{}\\n\".format(aID, x, y, z))"
   ]
  },
  {
   "cell_type": "code",
   "execution_count": 29,
   "id": "c4a7d164-0877-4a6f-b58d-b82b68cb7404",
   "metadata": {},
   "outputs": [
    {
     "data": {
      "text/plain": [
       "'O'"
      ]
     },
     "execution_count": 29,
     "metadata": {},
     "output_type": "execute_result"
    }
   ],
   "source": [
    "s.species_string"
   ]
  },
  {
   "cell_type": "code",
   "execution_count": 23,
   "id": "c1ef56db-200f-4436-92a5-ebc13bb6b09d",
   "metadata": {},
   "outputs": [
    {
     "data": {
      "text/plain": [
       "3.748914280570887"
      ]
     },
     "execution_count": 23,
     "metadata": {},
     "output_type": "execute_result"
    }
   ],
   "source": [
    "xtal1.sites[0].coords[0]"
   ]
  },
  {
   "cell_type": "code",
   "execution_count": null,
   "id": "22b17766-0380-455f-a68b-e2934f2e1fc8",
   "metadata": {},
   "outputs": [],
   "source": []
  }
 ],
 "metadata": {
  "kernelspec": {
   "display_name": "Python 3 (ipykernel)",
   "language": "python",
   "name": "python3"
  },
  "language_info": {
   "codemirror_mode": {
    "name": "ipython",
    "version": 3
   },
   "file_extension": ".py",
   "mimetype": "text/x-python",
   "name": "python",
   "nbconvert_exporter": "python",
   "pygments_lexer": "ipython3",
   "version": "3.9.16"
  }
 },
 "nbformat": 4,
 "nbformat_minor": 5
}
