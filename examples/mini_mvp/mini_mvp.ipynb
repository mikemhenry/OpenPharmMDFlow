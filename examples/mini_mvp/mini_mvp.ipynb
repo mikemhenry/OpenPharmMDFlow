{
 "cells": [
  {
   "cell_type": "code",
   "execution_count": 1,
   "id": "622344e3-5e13-46b3-95c7-4a49ca1836f2",
   "metadata": {},
   "outputs": [
    {
     "data": {
      "application/vnd.jupyter.widget-view+json": {
       "model_id": "1dd3814cb65f46eaaee3c2cc26f46fd2",
       "version_major": 2,
       "version_minor": 0
      },
      "text/plain": []
     },
     "metadata": {},
     "output_type": "display_data"
    }
   ],
   "source": [
    "import nglview\n",
    "from openff.toolkit import ForceField, Molecule, Topology\n",
    "from openff.units import unit\n",
    "\n",
    "from openff.interchange import Interchange\n",
    "from openff.interchange.components._packmol import UNIT_CUBE, pack_box\n",
    "from openff.interchange.drivers import get_summary_data"
   ]
  },
  {
   "cell_type": "code",
   "execution_count": 2,
   "id": "4a3fcb6b-856b-4b0b-9750-9c99bd6a1ce8",
   "metadata": {},
   "outputs": [],
   "source": [
    "molecules = [\n",
    "    Molecule.from_smiles(smi)\n",
    "    for smi in [\"ClC(Cl)(Cl)Cl\", \"CC1=CC=CC=C1\", \"CS(=O)C\", \"CCCCCCO\"]\n",
    "]"
   ]
  },
  {
   "cell_type": "code",
   "execution_count": 3,
   "id": "b3d557db-4c3a-4e46-87cf-b788e27cadf5",
   "metadata": {},
   "outputs": [],
   "source": [
    "topology = pack_box(\n",
    "    molecules=molecules,\n",
    "    number_of_copies=4 * [200],\n",
    "    mass_density=850 * unit.kilogram / unit.meter**3,\n",
    "    box_shape=UNIT_CUBE,\n",
    ")"
   ]
  },
  {
   "cell_type": "code",
   "execution_count": 4,
   "id": "54128984-9e55-4fd1-ab20-aa1f13d7af06",
   "metadata": {},
   "outputs": [
    {
     "data": {
      "application/vnd.jupyter.widget-view+json": {
       "model_id": "63d414ece46e443e89d52b554178247c",
       "version_major": 2,
       "version_minor": 0
      },
      "text/plain": [
       "NGLWidget()"
      ]
     },
     "metadata": {},
     "output_type": "display_data"
    }
   ],
   "source": [
    "topology.to_file(\"system.pdb\")\n",
    "nglview.show_structure_file(\"system.pdb\")"
   ]
  },
  {
   "cell_type": "code",
   "execution_count": 5,
   "id": "6bc820d4-d720-435e-a812-fc6837ac5810",
   "metadata": {},
   "outputs": [],
   "source": [
    "force_field = ForceField(\"openff_unconstrained-2.1.0.offxml\")\n",
    "interchange = Interchange.from_smirnoff(force_field=force_field, topology=topology)"
   ]
  },
  {
   "cell_type": "code",
   "execution_count": 6,
   "id": "a57acac2-831a-4262-b7be-425b3b97db8c",
   "metadata": {},
   "outputs": [
    {
     "data": {
      "application/vnd.jupyter.widget-view+json": {
       "model_id": "4e3aee7b996940ca808b2d23e58bb3e8",
       "version_major": 2,
       "version_minor": 0
      },
      "text/plain": [
       "NGLWidget()"
      ]
     },
     "metadata": {},
     "output_type": "display_data"
    }
   ],
   "source": [
    "interchange.visualize(\"nglview\")"
   ]
  },
  {
   "cell_type": "code",
   "execution_count": 7,
   "id": "798339e0-f412-44f3-bf7d-a66cfa9679ab",
   "metadata": {},
   "outputs": [
    {
     "data": {
      "text/html": [
       "<div>\n",
       "<style scoped>\n",
       "    .dataframe tbody tr th:only-of-type {\n",
       "        vertical-align: middle;\n",
       "    }\n",
       "\n",
       "    .dataframe tbody tr th {\n",
       "        vertical-align: top;\n",
       "    }\n",
       "\n",
       "    .dataframe thead th {\n",
       "        text-align: right;\n",
       "    }\n",
       "</style>\n",
       "<table border=\"1\" class=\"dataframe\">\n",
       "  <thead>\n",
       "    <tr style=\"text-align: right;\">\n",
       "      <th></th>\n",
       "      <th>Bond</th>\n",
       "      <th>Angle</th>\n",
       "      <th>Torsion</th>\n",
       "      <th>Electrostatics</th>\n",
       "      <th>vdW</th>\n",
       "    </tr>\n",
       "  </thead>\n",
       "  <tbody>\n",
       "    <tr>\n",
       "      <th>OpenMM</th>\n",
       "      <td>7294.737428</td>\n",
       "      <td>23614.974229</td>\n",
       "      <td>6413.856957</td>\n",
       "      <td>-18759.309105</td>\n",
       "      <td>137408.193219</td>\n",
       "    </tr>\n",
       "    <tr>\n",
       "      <th>Amber</th>\n",
       "      <td>7294.736219</td>\n",
       "      <td>23614.974650</td>\n",
       "      <td>6413.856942</td>\n",
       "      <td>273049.698114</td>\n",
       "      <td>141648.815410</td>\n",
       "    </tr>\n",
       "  </tbody>\n",
       "</table>\n",
       "</div>"
      ],
      "text/plain": [
       "               Bond         Angle      Torsion  Electrostatics            vdW\n",
       "OpenMM  7294.737428  23614.974229  6413.856957   -18759.309105  137408.193219\n",
       "Amber   7294.736219  23614.974650  6413.856942   273049.698114  141648.815410"
      ]
     },
     "execution_count": 7,
     "metadata": {},
     "output_type": "execute_result"
    }
   ],
   "source": [
    "get_summary_data(interchange, _engines=[\"OpenMM\", \"GROMACS\", \"Amber\"])"
   ]
  },
  {
   "cell_type": "code",
   "execution_count": 11,
   "id": "435ad858-228b-492f-82f7-3bcec8cdb1b4",
   "metadata": {},
   "outputs": [],
   "source": [
    "import time\n",
    "\n",
    "import openmm\n",
    "\n",
    "# Length of the simulation.\n",
    "num_steps = 1000  # number of integration steps to run\n",
    "\n",
    "# Logging options.\n",
    "trj_freq = 10  # number of steps per written trajectory frame\n",
    "data_freq = 10  # number of steps per written simulation statistics\n",
    "\n",
    "# Integration options\n",
    "time_step = 2 * openmm.unit.femtoseconds  # simulation timestep\n",
    "temperature = 300 * openmm.unit.kelvin  # simulation temperature\n",
    "friction = 1 / openmm.unit.picosecond  # friction constant\n",
    "\n",
    "integrator = openmm.LangevinIntegrator(temperature, friction, time_step)"
   ]
  },
  {
   "cell_type": "code",
   "execution_count": 12,
   "id": "80564030-c726-407c-bdfd-f4170e5842b9",
   "metadata": {},
   "outputs": [],
   "source": [
    "simulation = interchange.to_openmm_simulation(integrator=integrator)\n",
    "\n",
    "simulation.context.setVelocitiesToTemperature(temperature)\n",
    "\n",
    "pdb_reporter = openmm.app.PDBReporter(\"trajectory.pdb\", trj_freq)\n",
    "state_data_reporter = openmm.app.StateDataReporter(\n",
    "    \"data.csv\",\n",
    "    data_freq,\n",
    "    step=True,\n",
    "    potentialEnergy=True,\n",
    "    temperature=True,\n",
    "    density=True,\n",
    ")\n",
    "simulation.reporters.append(pdb_reporter)\n",
    "simulation.reporters.append(state_data_reporter)"
   ]
  },
  {
   "cell_type": "code",
   "execution_count": 13,
   "id": "d748c6e4-b302-46ff-994a-274a3dee5957",
   "metadata": {},
   "outputs": [
    {
     "name": "stdout",
     "output_type": "stream",
     "text": [
      "Starting simulation\n",
      "Elapsed time 9.043640955 seconds\n",
      "Done!\n"
     ]
    }
   ],
   "source": [
    "print(\"Starting simulation\")\n",
    "start = time.process_time()\n",
    "\n",
    "# Run the simulation\n",
    "simulation.step(num_steps)\n",
    "\n",
    "end = time.process_time()\n",
    "print(f\"Elapsed time {end - start} seconds\")\n",
    "print(\"Done!\")"
   ]
  },
  {
   "cell_type": "code",
   "execution_count": 17,
   "id": "ca17e2d5-4999-4218-946d-7477616526b7",
   "metadata": {},
   "outputs": [
    {
     "data": {
      "application/vnd.jupyter.widget-view+json": {
       "model_id": "643e347d982b44149463ee0f96c8d673",
       "version_major": 2,
       "version_minor": 0
      },
      "text/plain": [
       "NGLWidget(max_frame=99)"
      ]
     },
     "metadata": {},
     "output_type": "display_data"
    }
   ],
   "source": [
    "nglview.show_mdtraj(md.load(\"trajectory.pdb\"))"
   ]
  }
 ],
 "metadata": {
  "kernelspec": {
   "display_name": "Python 3 (ipykernel)",
   "language": "python",
   "name": "python3"
  },
  "language_info": {
   "codemirror_mode": {
    "name": "ipython",
    "version": 3
   },
   "file_extension": ".py",
   "mimetype": "text/x-python",
   "name": "python",
   "nbconvert_exporter": "python",
   "pygments_lexer": "ipython3",
   "version": "3.12.1"
  }
 },
 "nbformat": 4,
 "nbformat_minor": 5
}
