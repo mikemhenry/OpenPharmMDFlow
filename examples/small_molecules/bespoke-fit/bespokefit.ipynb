{
 "cells": [
  {
   "cell_type": "markdown",
   "id": "84b83fad-4487-4301-aff6-7efb1e5e2d5c",
   "metadata": {},
   "source": [
    "# Bespokefit Example"
   ]
  },
  {
   "cell_type": "code",
   "execution_count": 1,
   "id": "b21fefd4-961a-44a2-9b56-f7099f4c24e6",
   "metadata": {},
   "outputs": [
    {
     "data": {
      "application/vnd.jupyter.widget-view+json": {
       "model_id": "",
       "version_major": 2,
       "version_minor": 0
      },
      "text/plain": [
       "Output()"
      ]
     },
     "metadata": {},
     "output_type": "display_data"
    },
    {
     "data": {
      "text/html": [
       "<pre style=\"white-space:pre;overflow-x:auto;line-height:normal;font-family:Menlo,'DejaVu Sans Mono',consolas,'Courier New',monospace\"></pre>\n"
      ],
      "text/plain": []
     },
     "metadata": {},
     "output_type": "display_data"
    },
    {
     "data": {
      "text/html": [
       "<pre style=\"white-space:pre;overflow-x:auto;line-height:normal;font-family:Menlo,'DejaVu Sans Mono',consolas,'Courier New',monospace\"><span style=\"font-weight: bold\">[</span><span style=\"color: #008000; text-decoration-color: #008000\">✓</span><span style=\"font-weight: bold\">]</span> fragmentation successful\n",
       "</pre>\n"
      ],
      "text/plain": [
       "\u001b[1m[\u001b[0m\u001b[32m✓\u001b[0m\u001b[1m]\u001b[0m fragmentation successful\n"
      ]
     },
     "metadata": {},
     "output_type": "display_data"
    },
    {
     "data": {
      "application/vnd.jupyter.widget-view+json": {
       "model_id": "",
       "version_major": 2,
       "version_minor": 0
      },
      "text/plain": [
       "Output()"
      ]
     },
     "metadata": {},
     "output_type": "display_data"
    },
    {
     "data": {
      "text/html": [
       "<pre style=\"white-space:pre;overflow-x:auto;line-height:normal;font-family:Menlo,'DejaVu Sans Mono',consolas,'Courier New',monospace\"></pre>\n"
      ],
      "text/plain": []
     },
     "metadata": {},
     "output_type": "display_data"
    },
    {
     "data": {
      "text/html": [
       "<pre style=\"white-space:pre;overflow-x:auto;line-height:normal;font-family:Menlo,'DejaVu Sans Mono',consolas,'Courier New',monospace\"><span style=\"font-weight: bold\">[</span><span style=\"color: #008000; text-decoration-color: #008000\">✓</span><span style=\"font-weight: bold\">]</span> qc-generation successful\n",
       "</pre>\n"
      ],
      "text/plain": [
       "\u001b[1m[\u001b[0m\u001b[32m✓\u001b[0m\u001b[1m]\u001b[0m qc-generation successful\n"
      ]
     },
     "metadata": {},
     "output_type": "display_data"
    },
    {
     "data": {
      "application/vnd.jupyter.widget-view+json": {
       "model_id": "",
       "version_major": 2,
       "version_minor": 0
      },
      "text/plain": [
       "Output()"
      ]
     },
     "metadata": {},
     "output_type": "display_data"
    },
    {
     "data": {
      "text/html": [
       "<pre style=\"white-space:pre;overflow-x:auto;line-height:normal;font-family:Menlo,'DejaVu Sans Mono',consolas,'Courier New',monospace\"></pre>\n"
      ],
      "text/plain": []
     },
     "metadata": {},
     "output_type": "display_data"
    },
    {
     "data": {
      "text/html": [
       "<pre style=\"white-space:pre;overflow-x:auto;line-height:normal;font-family:Menlo,'DejaVu Sans Mono',consolas,'Courier New',monospace\"><span style=\"font-weight: bold\">[</span><span style=\"color: #008000; text-decoration-color: #008000\">✓</span><span style=\"font-weight: bold\">]</span> optimization successful\n",
       "</pre>\n"
      ],
      "text/plain": [
       "\u001b[1m[\u001b[0m\u001b[32m✓\u001b[0m\u001b[1m]\u001b[0m optimization successful\n"
      ]
     },
     "metadata": {},
     "output_type": "display_data"
    },
    {
     "name": "stdout",
     "output_type": "stream",
     "text": [
      "\n",
      "worker: Warm shutdown (MainProcess)\n",
      "\n",
      "worker: Warm shutdown (MainProcess)\n",
      "\n",
      "worker: Warm shutdown (MainProcess)\n"
     ]
    }
   ],
   "source": [
    "from openff.bespokefit.workflows import BespokeWorkflowFactory\n",
    "from openff.qcsubmit.common_structures import QCSpec\n",
    "from openff.toolkit.topology import Molecule\n",
    "from openff.bespokefit.executor import BespokeExecutor, BespokeWorkerConfig\n",
    "from openff.bespokefit.executor.client import BespokeFitClient, Settings\n",
    "\n",
    "factory = BespokeWorkflowFactory(\n",
    "    # Define the starting force field that will be augmented with bespoke\n",
    "    # parameters.\n",
    "    initial_force_field=\"openff-2.2.0.offxml\",\n",
    "    # Change the level of theory that the reference QC data is generated at\n",
    "    default_qc_specs=[\n",
    "        QCSpec(\n",
    "            method=\"gfn2xtb\",\n",
    "            basis=None,\n",
    "            program=\"xtb\",\n",
    "            spec_name=\"xtb\",\n",
    "            spec_description=\"gfn2xtb\",\n",
    "        )\n",
    "    ],\n",
    ")\n",
    "\n",
    "\n",
    "input_molecule = Molecule.from_smiles(\"C(C(=O)O)N\")  # Glycine\n",
    "\n",
    "workflow_schema = factory.optimization_schema_from_molecule(molecule=input_molecule)\n",
    "\n",
    "# create a client to interface with the executor\n",
    "settings = Settings()\n",
    "client = BespokeFitClient(settings=settings)\n",
    "\n",
    "with BespokeExecutor(\n",
    "    n_fragmenter_workers=1,\n",
    "    n_optimizer_workers=1,\n",
    "    n_qc_compute_workers=2,\n",
    "    qc_compute_worker_config=BespokeWorkerConfig(n_cores=1),\n",
    ") as executor:\n",
    "    # Submit our workflow to the executor\n",
    "    task_id = client.submit_optimization(input_schema=workflow_schema)\n",
    "    # Wait until the executor is done\n",
    "    output = client.wait_until_complete(task_id)\n",
    "\n",
    "if output.status == \"success\":\n",
    "    # Save the resulting force field to an OFFXML file\n",
    "    output.bespoke_force_field.to_file(\"output-ff.offxml\")\n",
    "elif output.status == \"errored\":\n",
    "    # OR the print the error message if unsuccessful\n",
    "    print(output.error)\n",
    "\n",
    "# factory.to_file(\"workflow-factory.yaml\")\n",
    "# factory = BespokeWorkflowFactory.from_file(\"workflow-factory.yaml\")"
   ]
  },
  {
   "cell_type": "code",
   "execution_count": null,
   "id": "5015e604-9739-4c7a-8e1d-52c9c59df370",
   "metadata": {},
   "outputs": [],
   "source": []
  }
 ],
 "metadata": {
  "kernelspec": {
   "display_name": "Python 3 (ipykernel)",
   "language": "python",
   "name": "python3"
  },
  "language_info": {
   "codemirror_mode": {
    "name": "ipython",
    "version": 3
   },
   "file_extension": ".py",
   "mimetype": "text/x-python",
   "name": "python",
   "nbconvert_exporter": "python",
   "pygments_lexer": "ipython3",
   "version": "3.11.10"
  }
 },
 "nbformat": 4,
 "nbformat_minor": 5
}
