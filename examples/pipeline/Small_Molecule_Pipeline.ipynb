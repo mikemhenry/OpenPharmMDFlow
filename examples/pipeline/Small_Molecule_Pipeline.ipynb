{
 "cells": [
  {
   "cell_type": "markdown",
   "id": "fc3ea0e8-57da-4a41-8f24-a5290beed474",
   "metadata": {},
   "source": [
    "# Small Molecule Pipeline"
   ]
  },
  {
   "cell_type": "code",
   "execution_count": 1,
   "id": "3637a8b5-067b-4956-a7ae-a1621a51feb6",
   "metadata": {},
   "outputs": [
    {
     "data": {
      "application/vnd.jupyter.widget-view+json": {
       "model_id": "f2358f1febc042a78dec5c754ed67b2c",
       "version_major": 2,
       "version_minor": 0
      },
      "text/plain": []
     },
     "metadata": {},
     "output_type": "display_data"
    }
   ],
   "source": [
    "from openpharmmdflow.pipeline.sm.pipeline_settings import *\n",
    "from openpharmmdflow.pipeline.sm.pipeline import SmallMoleculePipeline\n",
    "import nglview"
   ]
  },
  {
   "cell_type": "markdown",
   "id": "1631890b-e4c8-4b7d-a37f-e01d52dd2bc0",
   "metadata": {},
   "source": [
    "First we create the pipeline config settings object"
   ]
  },
  {
   "cell_type": "code",
   "execution_count": 19,
   "id": "20c72ac0-ae52-4dd1-a9d5-c7558e83932f",
   "metadata": {},
   "outputs": [],
   "source": [
    "# Any file supported by openff-toolkit or cif\n",
    "input = {\"name\": \"ibuprofen\", \"path\": \"ibuprofen.sdf\"}\n",
    "sm_input = SmallMoleculePipelineInputConfig(**input)\n",
    "\n",
    "settings = {\n",
    "    # Not used right now\n",
    "    \"work_dir\": \"/home/mmh/Projects/OpenPharmMDFlow/experiments/sm/scratch\",\n",
    "    \"inputs\": sm_input,\n",
    "    \"prep_config\": SmallMoleculePipelinePrepConfig(\n",
    "        bespokefit_config=BespokefitConfig(\n",
    "            bespoke_workflow_factory_config=BespokeWorkflowFactoryConfig(),\n",
    "            bespoke_executor_config=BespokeExecutorConfig(),\n",
    "            mol_to_bespoke=\"ibuprofen\",\n",
    "        )\n",
    "    ),\n",
    "    \"pack_config\": SmallMoleculePipelinePackConfig(\n",
    "        molecule_names=[\"ibuprofen\"], number_of_copies=[10], mass_density=0.1\n",
    "    ),\n",
    "    \"parameterize_config\": SmallMoleculePipelineParameterizeConfig(),\n",
    "    \"simulate_config\": SmallMoleculePipelineSimulateConfig(),\n",
    "    \"analyize_config\": SmallMoleculePipelineAnalyizeConfig(),\n",
    "}\n",
    "sm_config = SmallMoleculePipelineConfig(**settings)"
   ]
  },
  {
   "cell_type": "markdown",
   "id": "d1ceb998-3b82-493b-a4d1-e0cc2b3a5d13",
   "metadata": {},
   "source": [
    "## Now we can create our pipeline object"
   ]
  },
  {
   "cell_type": "code",
   "execution_count": 5,
   "id": "b85ccc8a-7913-4fcc-83fc-d6330bd6111e",
   "metadata": {},
   "outputs": [],
   "source": [
    "smp = SmallMoleculePipeline(sm_config)"
   ]
  },
  {
   "cell_type": "code",
   "execution_count": 6,
   "id": "3a96f1a8-1c8a-42f9-b865-d48eccb42e1a",
   "metadata": {},
   "outputs": [],
   "source": [
    "smp.load()"
   ]
  },
  {
   "cell_type": "markdown",
   "id": "94143026-84e6-4074-b635-82982b166da3",
   "metadata": {},
   "source": [
    "Prep will run bespoke fit"
   ]
  },
  {
   "cell_type": "code",
   "execution_count": 7,
   "id": "dc6da737-25d8-495f-94ce-fa1f7211d7f5",
   "metadata": {},
   "outputs": [],
   "source": [
    "# smp.prep()"
   ]
  },
  {
   "cell_type": "code",
   "execution_count": 8,
   "id": "f68c7e13-e24a-4d3b-bc9d-775e7ef0bb1d",
   "metadata": {},
   "outputs": [],
   "source": [
    "smp.pack()"
   ]
  },
  {
   "cell_type": "markdown",
   "id": "daa070a9-dcfc-4db4-86f4-2dbc6037f08a",
   "metadata": {},
   "source": [
    "We can view the topology"
   ]
  },
  {
   "cell_type": "code",
   "execution_count": 13,
   "id": "2e57d237-5120-4f9c-b4d5-24e2cd9e0822",
   "metadata": {},
   "outputs": [
    {
     "data": {
      "application/vnd.jupyter.widget-view+json": {
       "model_id": "39312147b112409a84fe33a07b6e930c",
       "version_major": 2,
       "version_minor": 0
      },
      "text/plain": [
       "NGLWidget()"
      ]
     },
     "metadata": {},
     "output_type": "display_data"
    }
   ],
   "source": [
    "smp.topology.to_file(\"system.pdb\")\n",
    "nglview.show_structure_file(\"system.pdb\")"
   ]
  },
  {
   "cell_type": "code",
   "execution_count": 14,
   "id": "5cf23d74-a55e-4d03-8a9d-511c505f1c4f",
   "metadata": {},
   "outputs": [],
   "source": [
    "smp.parameterize()"
   ]
  },
  {
   "cell_type": "code",
   "execution_count": 15,
   "id": "d7c2b727-1ef0-432a-be02-9c004c4d50c4",
   "metadata": {},
   "outputs": [
    {
     "data": {
      "application/vnd.jupyter.widget-view+json": {
       "model_id": "e2a97571c71c4227a89a79d670adf17c",
       "version_major": 2,
       "version_minor": 0
      },
      "text/plain": [
       "NGLWidget()"
      ]
     },
     "metadata": {},
     "output_type": "display_data"
    }
   ],
   "source": [
    "smp.interchange.visualize(\"nglview\")"
   ]
  },
  {
   "cell_type": "code",
   "execution_count": 17,
   "id": "3f1fe01b-93e1-44c5-9429-ba3348d2a5af",
   "metadata": {},
   "outputs": [
    {
     "name": "stdout",
     "output_type": "stream",
     "text": [
      "Starting simulation\n",
      "Step, volume (nm^3)\n",
      "0 34.254\n",
      "500 33.93\n",
      "1000 32.046\n",
      "1500 31.12\n",
      "2000 31.412\n",
      "2500 32.509\n",
      "3000 32.153\n",
      "3500 31.297\n",
      "4000 27.585\n",
      "4500 28.9\n",
      "Elapsed time: 0.60 seconds\n"
     ]
    }
   ],
   "source": [
    "smp.simulate()"
   ]
  },
  {
   "cell_type": "code",
   "execution_count": null,
   "id": "bad69046-eecf-4eeb-9996-d7a60dfe8d5e",
   "metadata": {},
   "outputs": [],
   "source": []
  }
 ],
 "metadata": {
  "kernelspec": {
   "display_name": "Python 3 (ipykernel)",
   "language": "python",
   "name": "python3"
  },
  "language_info": {
   "codemirror_mode": {
    "name": "ipython",
    "version": 3
   },
   "file_extension": ".py",
   "mimetype": "text/x-python",
   "name": "python",
   "nbconvert_exporter": "python",
   "pygments_lexer": "ipython3",
   "version": "3.11.10"
  }
 },
 "nbformat": 4,
 "nbformat_minor": 5
}
