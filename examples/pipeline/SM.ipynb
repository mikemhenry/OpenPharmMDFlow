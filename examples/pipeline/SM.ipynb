{
 "cells": [
  {
   "cell_type": "code",
   "execution_count": null,
   "id": "c17fc61c-91d0-4131-93a1-98e537284cb8",
   "metadata": {},
   "outputs": [],
   "source": []
  },
  {
   "cell_type": "code",
   "execution_count": 2,
   "id": "7a45962c-8561-4619-9e0d-0f9e17e5be71",
   "metadata": {},
   "outputs": [],
   "source": [
    "import pydantic\n",
    "from pydantic import BaseModel\n",
    "from openff.toolkit import Molecule\n",
    "from openpharmmdflow.io.load import load_file\n",
    "from openpharmmdflow.bespokefit import build_bespoke_workflow_factory, run_bespokefit\n",
    "from openff.models.types import FloatQuantity\n",
    "import numpy as np\n",
    "from openff.interchange.components._packmol import UNIT_CUBE, pack_box\n",
    "from openff.toolkit import ForceField"
   ]
  },
  {
   "cell_type": "code",
   "execution_count": 3,
   "id": "10b09d77-8356-49e7-ba84-364975a8dc6e",
   "metadata": {},
   "outputs": [
    {
     "data": {
      "text/plain": [
       "'1.10.17'"
      ]
     },
     "execution_count": 3,
     "metadata": {},
     "output_type": "execute_result"
    }
   ],
   "source": [
    "pydantic.__version__"
   ]
  },
  {
   "cell_type": "code",
   "execution_count": 4,
   "id": "58be7082-a8c5-4c37-bbc0-d30a384b7a7b",
   "metadata": {},
   "outputs": [],
   "source": [
    "from pathlib import Path\n",
    "\n",
    "\n",
    "class SmallMoleculePipelineInputConfig(BaseModel):\n",
    "    # TODO: support SMILES\n",
    "    name: str\n",
    "    path: Path\n",
    "\n",
    "\n",
    "class BespokeWorkflowFactoryConfig(BaseModel):\n",
    "    initial_force_field: str = \"openff-2.2.0.offxml\"\n",
    "    qc_method: str = \"gfn2xtb\"\n",
    "    qc_basis: str | None = None\n",
    "    qc_program: str = \"xtb\"\n",
    "    qc_spec_name: str = \"xtb\"\n",
    "    qc_spec_description: str = \"gfn2xtb\"\n",
    "\n",
    "\n",
    "class BespokeExecutorConfig(BaseModel):\n",
    "    n_fragmenter_workers: int = 1\n",
    "    n_optimizer_workers: int = 1\n",
    "    n_qc_compute_workers: int = 2\n",
    "    n_bespoke_workers: int = 1\n",
    "    n_fragment_workers: int = 1\n",
    "\n",
    "\n",
    "class BespokefitConfig(BaseModel):\n",
    "    # Right now this works to optimize one small molecule\n",
    "    # we could hack together something that works but it would\n",
    "    # be best to run this out of band and just load in the\n",
    "    # bespoke forcefeild\n",
    "    bespoke_workflow_factory_config: BespokeWorkflowFactoryConfig\n",
    "    bespoke_executor_config: BespokeExecutorConfig\n",
    "    save_bespoke_ff: bool = True\n",
    "    mol_to_bespoke: str\n",
    "\n",
    "\n",
    "class SmallMoleculePipelinePrepConfig(BaseModel):\n",
    "    bespokefit_config: BespokefitConfig\n",
    "\n",
    "\n",
    "class SmallMoleculePipelinePackConfig(BaseModel):\n",
    "    # TODO: add validator for len(molecule_names) == len(number_of_copies)\n",
    "    # TODO: add validator for box_shape\n",
    "    molecule_names: list[str]\n",
    "    number_of_copies: list[int]\n",
    "    mass_density: FloatQuantity[\"g/cm**3\"]\n",
    "    box_shape: np.array = UNIT_CUBE\n",
    "\n",
    "\n",
    "class SmallMoleculePipelineParameterizeConfig(BaseModel):\n",
    "    force_field: ForceField | str | Path | None = \"openff-2.2.1.offxml\"\n",
    "\n",
    "\n",
    "class SmallMoleculePipelineSimulateConfig(BaseModel):\n",
    "    pdb_stride: int = 500\n",
    "    trajectory_name: str = \"trajectory.pdb\"\n",
    "    temp_k: float = 300\n",
    "    time_step_fs: int = 1\n",
    "    pressure_bar: float = 1\n",
    "    n_steps: int = 5000\n",
    "    pass\n",
    "\n",
    "\n",
    "class SmallMoleculePipelineAnalyizeConfig(BaseModel):\n",
    "    pass\n",
    "\n",
    "\n",
    "class SmallMoleculePipelineConfig(BaseModel):\n",
    "    work_dir: Path\n",
    "    inputs: list[SmallMoleculePipelineInputConfig] | SmallMoleculePipelineInputConfig\n",
    "    prep_config: SmallMoleculePipelinePrepConfig | None\n",
    "    pack_config: SmallMoleculePipelinePackConfig\n",
    "    parameterize_config: SmallMoleculePipelineParameterizeConfig\n",
    "    simulate_config: SmallMoleculePipelineSimulateConfig\n",
    "    analyize_config: SmallMoleculePipelineAnalyizeConfig\n",
    "\n",
    "\n",
    "SMPInputConfig = SmallMoleculePipelineInputConfig\n",
    "SMPConfig = SmallMoleculePipelineConfig"
   ]
  },
  {
   "cell_type": "code",
   "execution_count": 5,
   "id": "394b81ee-a7c5-411c-84ba-f6ef7d9679a6",
   "metadata": {},
   "outputs": [],
   "source": [
    "input = {\"name\": \"ibuprofen\", \"path\": \"ibuprofen.sdf\"}\n",
    "\n",
    "sm_input = SMPInputConfig(**input)\n",
    "\n",
    "settings = {\n",
    "    \"work_dir\": \"/home/mmh/Projects/OpenPharmMDFlow/experiments/sm/scratch\",\n",
    "    \"inputs\": [sm_input, sm_input],\n",
    "    \"prep_config\": SmallMoleculePipelinePrepConfig(\n",
    "        bespokefit_config=BespokefitConfig(\n",
    "            bespoke_workflow_factory_config=BespokeWorkflowFactoryConfig(),\n",
    "            bespoke_executor_config=BespokeExecutorConfig(),\n",
    "            mol_to_bespoke=\"ibuprofen\",\n",
    "        )\n",
    "    ),\n",
    "    \"pack_config\": SmallMoleculePipelinePackConfig(),\n",
    "    \"simulate_config\": SmallMoleculePipelineSimulateConfig(),\n",
    "    \"analyize_config\": SmallMoleculePipelineAnalyizeConfig(),\n",
    "}\n",
    "\n",
    "sm_config = SMPConfig(**settings)"
   ]
  },
  {
   "cell_type": "code",
   "execution_count": null,
   "id": "dfc7c822-03ee-4cb4-af6b-2c099dc4bdb7",
   "metadata": {},
   "outputs": [],
   "source": []
  },
  {
   "cell_type": "code",
   "execution_count": 6,
   "id": "eef92ebc-0072-4ab4-90bd-fe7397489f2b",
   "metadata": {},
   "outputs": [],
   "source": [
    "# TODO: Use snakemake to manage pipeline?\n",
    "# TODO: Use decorators for DAG/deps?\n",
    "\n",
    "\n",
    "class SmallMoleculePipeline:\n",
    "    # TODO: Track the stage\n",
    "    # TODO: serialize\n",
    "    # TODO: factory model?\n",
    "    # TODO: if prep config, store nested configs more flat?\n",
    "    def __init__(self, config: SmallMoleculePipelineInputConfig):\n",
    "        self.config = config\n",
    "        self.inputs = (\n",
    "            config.inputs if isinstance(config.inputs, list) else [config.inputs]\n",
    "        )\n",
    "        self.prep_config = config.prep_config if config.prep_config else None\n",
    "        self.pack_config = config.pack_config\n",
    "        self.parameterize_config = config.parameterize_config\n",
    "        self.bespoke_ff = None\n",
    "\n",
    "    def load(self):\n",
    "        # TODO raise error if duplcate name\n",
    "        self.loaded_mols = {}\n",
    "        for input in self.inputs:\n",
    "            mol = load_file(input.path)\n",
    "            mol.name = input.name\n",
    "            self.loaded_mols[mol.name] = mol\n",
    "\n",
    "    def prep(self):\n",
    "        # run bespokefit here\n",
    "        if self.prep_config:\n",
    "            self.factory = build_bespoke_workflow_factory(\n",
    "                self.prep_config.bespokefit_config.bespoke_workflow_factory_config\n",
    "            )\n",
    "            self.bespoke_ff = run_bespokefit(\n",
    "                self.prep_config.bespokefit_config,\n",
    "                self.loaded_mols[self.prep_config.bespokefit_config.mol_to_bespoke],\n",
    "                self.factory,\n",
    "            )\n",
    "        else:\n",
    "            print(\"Nothing to prep\")\n",
    "\n",
    "    def pack(self):\n",
    "        # build the box here\n",
    "        # TODO: use mBuild for lattice tooling\n",
    "        # Right now random packing is supported\n",
    "        self.topology = pack_box(\n",
    "            molecules=[\n",
    "                self.loaded_mols[mol_name]\n",
    "                for mol_name in self.pack_config.molecule_names\n",
    "            ],\n",
    "            number_of_copies=self.pack_config.number_of_copies,\n",
    "            mass_density=self.pack_config.mass_density,\n",
    "            box_shape=self.pack_config.box_shape,\n",
    "        )\n",
    "\n",
    "    def parameterize(self):\n",
    "        # Use bespoke ff if we made one\n",
    "        self.force_field = (\n",
    "            self.bespoke_ff if self.bespoke_ff else self.parameterize_config.force_field\n",
    "        )\n",
    "        # Now if force_field is a path or string, we need to turn it into a ForceField object\n",
    "        if not isinstance(self.force_field, ForceField):\n",
    "            self.force_field = ForceField(self.force_field)\n",
    "        self.interchange = Interchange.from_smirnoff(\n",
    "            force_field=self.force_field, topology=self.topology\n",
    "        )\n",
    "\n",
    "    def simulate(self):\n",
    "        # run simulation here\n",
    "        pass\n",
    "\n",
    "    def analyize(self):\n",
    "        # run analysis here\n",
    "        pass"
   ]
  },
  {
   "cell_type": "code",
   "execution_count": 7,
   "id": "1d067535-974e-46e4-94a6-3246a9110202",
   "metadata": {},
   "outputs": [],
   "source": [
    "smp = SmallMoleculePipeline(sm_config)"
   ]
  },
  {
   "cell_type": "code",
   "execution_count": 8,
   "id": "4bd14874-df95-4bad-a8ad-49512122df3b",
   "metadata": {},
   "outputs": [],
   "source": [
    "smp.load()"
   ]
  },
  {
   "cell_type": "code",
   "execution_count": 9,
   "id": "65e6beb0-f548-4244-a4a9-76dfda5ebfe0",
   "metadata": {},
   "outputs": [],
   "source": [
    "mol = Molecule.from_file(sm_input.path)\n",
    "mol.name = sm_input.name"
   ]
  },
  {
   "cell_type": "code",
   "execution_count": 10,
   "id": "d873474f-d2ec-4054-b79b-1e65f5b9838a",
   "metadata": {},
   "outputs": [
    {
     "data": {
      "text/plain": [
       "'ibuprofen'"
      ]
     },
     "execution_count": 10,
     "metadata": {},
     "output_type": "execute_result"
    }
   ],
   "source": [
    "mol.name"
   ]
  },
  {
   "cell_type": "code",
   "execution_count": 11,
   "id": "9576ba08-9c36-453d-8c70-8fd8dcd980cb",
   "metadata": {},
   "outputs": [
    {
     "data": {
      "text/plain": [
       "[Molecule with name 'ibuprofen' and SMILES '[H][O][C](=[O])[C@@]([H])([c]1[c]([H])[c]([H])[c]([C]([H])([H])[C]([H])([C]([H])([H])[H])[C]([H])([H])[H])[c]([H])[c]1[H])[C]([H])([H])[H]',\n",
       " Molecule with name 'ibuprofen' and SMILES '[H][O][C](=[O])[C@@]([H])([c]1[c]([H])[c]([H])[c]([C]([H])([H])[C]([H])([C]([H])([H])[H])[C]([H])([H])[H])[c]([H])[c]1[H])[C]([H])([H])[H]']"
      ]
     },
     "execution_count": 11,
     "metadata": {},
     "output_type": "execute_result"
    }
   ],
   "source": [
    "smp.loaded_mols"
   ]
  },
  {
   "cell_type": "code",
   "execution_count": 12,
   "id": "76748fdc-e3be-440b-b878-bf4a8e00518f",
   "metadata": {},
   "outputs": [
    {
     "name": "stdout",
     "output_type": "stream",
     "text": [
      "bespokefit_config=BespokefitConfig(bespoke_workflow_factory_config=BespokeWorkflowFactoryConfig(initial_force_field='openff-2.2.0.offxml', qc_method='gfn2xtb', qc_basis=None, qc_program='xtb', qc_spec_name='xtb', qc_spec_description='gfn2xtb'), bespoke_executor_config=BespokeExecutorConfig(n_fragmenter_workers=1, n_optimizer_workers=1, n_qc_compute_workers=2, n_bespoke_workers=1, n_fragment_workers=1), save_bespoke_ff=True)\n"
     ]
    }
   ],
   "source": [
    "print(smp.prep_config)"
   ]
  },
  {
   "cell_type": "code",
   "execution_count": null,
   "id": "a3c404b8-97f3-4a29-b003-1cccd8dbdc01",
   "metadata": {},
   "outputs": [
    {
     "name": "stderr",
     "output_type": "stream",
     "text": [
      "Deduplication                 : 100%|████████████| 1/1 [00:00<00:00, 357.69it/s]\n",
      "Building Fitting Schema: 100%|████████████████████| 1/1 [00:00<00:00,  2.52it/s]\n"
     ]
    },
    {
     "data": {
      "application/vnd.jupyter.widget-view+json": {
       "model_id": "",
       "version_major": 2,
       "version_minor": 0
      },
      "text/plain": [
       "Output()"
      ]
     },
     "metadata": {},
     "output_type": "display_data"
    },
    {
     "data": {
      "text/html": [
       "<pre style=\"white-space:pre;overflow-x:auto;line-height:normal;font-family:Menlo,'DejaVu Sans Mono',consolas,'Courier New',monospace\"></pre>\n"
      ],
      "text/plain": []
     },
     "metadata": {},
     "output_type": "display_data"
    },
    {
     "data": {
      "text/html": [
       "<pre style=\"white-space:pre;overflow-x:auto;line-height:normal;font-family:Menlo,'DejaVu Sans Mono',consolas,'Courier New',monospace\"><span style=\"font-weight: bold\">[</span><span style=\"color: #008000; text-decoration-color: #008000\">✓</span><span style=\"font-weight: bold\">]</span> fragmentation successful\n",
       "</pre>\n"
      ],
      "text/plain": [
       "\u001b[1m[\u001b[0m\u001b[32m✓\u001b[0m\u001b[1m]\u001b[0m fragmentation successful\n"
      ]
     },
     "metadata": {},
     "output_type": "display_data"
    },
    {
     "data": {
      "application/vnd.jupyter.widget-view+json": {
       "model_id": "",
       "version_major": 2,
       "version_minor": 0
      },
      "text/plain": [
       "Output()"
      ]
     },
     "metadata": {},
     "output_type": "display_data"
    },
    {
     "data": {
      "text/html": [
       "<pre style=\"white-space:pre;overflow-x:auto;line-height:normal;font-family:Menlo,'DejaVu Sans Mono',consolas,'Courier New',monospace\"></pre>\n"
      ],
      "text/plain": []
     },
     "metadata": {},
     "output_type": "display_data"
    },
    {
     "data": {
      "text/html": [
       "<pre style=\"white-space:pre;overflow-x:auto;line-height:normal;font-family:Menlo,'DejaVu Sans Mono',consolas,'Courier New',monospace\"><span style=\"font-weight: bold\">[</span><span style=\"color: #008000; text-decoration-color: #008000\">✓</span><span style=\"font-weight: bold\">]</span> qc-generation successful\n",
       "</pre>\n"
      ],
      "text/plain": [
       "\u001b[1m[\u001b[0m\u001b[32m✓\u001b[0m\u001b[1m]\u001b[0m qc-generation successful\n"
      ]
     },
     "metadata": {},
     "output_type": "display_data"
    },
    {
     "data": {
      "application/vnd.jupyter.widget-view+json": {
       "model_id": "fdd9f46ea7cb4ef7bfc7ebe74530a808",
       "version_major": 2,
       "version_minor": 0
      },
      "text/plain": [
       "Output()"
      ]
     },
     "metadata": {},
     "output_type": "display_data"
    }
   ],
   "source": [
    "bespoke_workflow_factory_config = BespokeWorkflowFactoryConfig()\n",
    "bespokefit_config = BespokefitConfig(\n",
    "    bespoke_workflow_factory_config=BespokeWorkflowFactoryConfig(),\n",
    "    bespoke_executor_config=BespokeExecutorConfig(),\n",
    ")\n",
    "factory = build_bespoke_workflow_factory(bespoke_workflow_factory_config)\n",
    "ff = run_bespokefit(bespokefit_config, smp.loaded_mols[0], factory)"
   ]
  },
  {
   "cell_type": "code",
   "execution_count": null,
   "id": "b1672b23-86f1-4235-862a-78227fded0a2",
   "metadata": {},
   "outputs": [],
   "source": []
  }
 ],
 "metadata": {
  "kernelspec": {
   "display_name": "Python 3 (ipykernel)",
   "language": "python",
   "name": "python3"
  },
  "language_info": {
   "codemirror_mode": {
    "name": "ipython",
    "version": 3
   },
   "file_extension": ".py",
   "mimetype": "text/x-python",
   "name": "python",
   "nbconvert_exporter": "python",
   "pygments_lexer": "ipython3",
   "version": "3.11.10"
  }
 },
 "nbformat": 4,
 "nbformat_minor": 5
}
