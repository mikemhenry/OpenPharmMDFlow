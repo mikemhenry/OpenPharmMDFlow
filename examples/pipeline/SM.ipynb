{
 "cells": [
  {
   "cell_type": "code",
   "execution_count": null,
   "id": "c17fc61c-91d0-4131-93a1-98e537284cb8",
   "metadata": {},
   "outputs": [],
   "source": []
  },
  {
   "cell_type": "code",
   "execution_count": 44,
   "id": "7a45962c-8561-4619-9e0d-0f9e17e5be71",
   "metadata": {},
   "outputs": [],
   "source": [
    "import pydantic\n",
    "from pydantic import BaseModel\n",
    "from openff.toolkit import Molecule\n",
    "from openpharmmdflow.io.load import load_file"
   ]
  },
  {
   "cell_type": "code",
   "execution_count": 45,
   "id": "10b09d77-8356-49e7-ba84-364975a8dc6e",
   "metadata": {},
   "outputs": [
    {
     "data": {
      "text/plain": [
       "'1.10.17'"
      ]
     },
     "execution_count": 45,
     "metadata": {},
     "output_type": "execute_result"
    }
   ],
   "source": [
    "pydantic.__version__"
   ]
  },
  {
   "cell_type": "code",
   "execution_count": 46,
   "id": "58be7082-a8c5-4c37-bbc0-d30a384b7a7b",
   "metadata": {},
   "outputs": [],
   "source": [
    "from pathlib import Path\n",
    "\n",
    "\n",
    "class SmallMoleculePipelineInputConfig(BaseModel):\n",
    "    name: str\n",
    "    path: Path\n",
    "\n",
    "\n",
    "class BespokeWorkflowFactoryConfig(BaseModel):\n",
    "    initial_force_field: str = \"openff-2.2.0.offxml\"\n",
    "    qc_method: str = \"gfn2xtb\"\n",
    "    qc_basis: str | None = None\n",
    "    qc_program: str = \"xtb\"\n",
    "    qc_spec_name: str = \"xtb\"\n",
    "    qc_spec_description: str = \"gfn2xtb\"\n",
    "\n",
    "\n",
    "class BespokeExecutorConfig(BaseModel):\n",
    "    n_fragmenter_workers: int = 1\n",
    "    n_optimizer_workers: int = 1\n",
    "    n_qc_compute_workers: int = 2\n",
    "    n_bespoke_workers: int = 1\n",
    "\n",
    "\n",
    "class BespokefitConfig(BaseModel):\n",
    "    # Right now this works to optimize one small molecule\n",
    "    # we could hack together something that works but it would\n",
    "    # be best to run this out of band and just load in the\n",
    "    # bespoke forcefeild\n",
    "    bespoke_workflow_factory_config: BespokeWorkflowFactoryConfig\n",
    "    bespoke_executor_config: BespokeExecutorConfig\n",
    "\n",
    "\n",
    "class SmallMoleculePipelinePrepConfig(BaseModel):\n",
    "    bespokefit_config: BespokefitConfig\n",
    "\n",
    "\n",
    "class SmallMoleculePipelineConfig(BaseModel):\n",
    "    work_dir: Path\n",
    "    inputs: list[SmallMoleculePipelineInputConfig] | SmallMoleculePipelineInputConfig\n",
    "    prep_config: SmallMoleculePipelinePrepConfig | None\n",
    "\n",
    "\n",
    "SMPInputConfig = SmallMoleculePipelineInputConfig\n",
    "SMPConfig = SmallMoleculePipelineConfig"
   ]
  },
  {
   "cell_type": "code",
   "execution_count": 49,
   "id": "394b81ee-a7c5-411c-84ba-f6ef7d9679a6",
   "metadata": {},
   "outputs": [],
   "source": [
    "input = {\"name\": \"ibuprofen\", \"path\": \"ibuprofen.sdf\"}\n",
    "\n",
    "sm_input = SMPInputConfig(**input)\n",
    "\n",
    "settings = {\n",
    "    \"work_dir\": \"/home/mmh/Projects/OpenPharmMDFlow/experiments/sm/scratch\",\n",
    "    \"inputs\": [sm_input, sm_input],\n",
    "}\n",
    "\n",
    "sm_config = SMPConfig(**settings)"
   ]
  },
  {
   "cell_type": "code",
   "execution_count": 48,
   "id": "dfc7c822-03ee-4cb4-af6b-2c099dc4bdb7",
   "metadata": {},
   "outputs": [
    {
     "data": {
      "text/plain": [
       "['Config',\n",
       " '__abstractmethods__',\n",
       " '__annotations__',\n",
       " '__class__',\n",
       " '__class_vars__',\n",
       " '__config__',\n",
       " '__custom_root_type__',\n",
       " '__delattr__',\n",
       " '__dict__',\n",
       " '__dir__',\n",
       " '__doc__',\n",
       " '__eq__',\n",
       " '__exclude_fields__',\n",
       " '__fields__',\n",
       " '__fields_set__',\n",
       " '__format__',\n",
       " '__ge__',\n",
       " '__get_validators__',\n",
       " '__getattribute__',\n",
       " '__getstate__',\n",
       " '__gt__',\n",
       " '__hash__',\n",
       " '__include_fields__',\n",
       " '__init__',\n",
       " '__init_subclass__',\n",
       " '__iter__',\n",
       " '__json_encoder__',\n",
       " '__le__',\n",
       " '__lt__',\n",
       " '__module__',\n",
       " '__ne__',\n",
       " '__new__',\n",
       " '__post_root_validators__',\n",
       " '__pre_root_validators__',\n",
       " '__pretty__',\n",
       " '__private_attributes__',\n",
       " '__reduce__',\n",
       " '__reduce_ex__',\n",
       " '__repr__',\n",
       " '__repr_args__',\n",
       " '__repr_name__',\n",
       " '__repr_str__',\n",
       " '__rich_repr__',\n",
       " '__schema_cache__',\n",
       " '__setattr__',\n",
       " '__setstate__',\n",
       " '__signature__',\n",
       " '__sizeof__',\n",
       " '__slots__',\n",
       " '__str__',\n",
       " '__subclasshook__',\n",
       " '__try_update_forward_refs__',\n",
       " '__validators__',\n",
       " '_abc_impl',\n",
       " '_calculate_keys',\n",
       " '_copy_and_set_values',\n",
       " '_decompose_class',\n",
       " '_enforce_dict_if_root',\n",
       " '_get_value',\n",
       " '_init_private_attributes',\n",
       " '_iter',\n",
       " 'construct',\n",
       " 'copy',\n",
       " 'dict',\n",
       " 'from_orm',\n",
       " 'inputs',\n",
       " 'json',\n",
       " 'parse_file',\n",
       " 'parse_obj',\n",
       " 'parse_raw',\n",
       " 'prep_config',\n",
       " 'schema',\n",
       " 'schema_json',\n",
       " 'update_forward_refs',\n",
       " 'validate',\n",
       " 'work_dir']"
      ]
     },
     "execution_count": 48,
     "metadata": {},
     "output_type": "execute_result"
    }
   ],
   "source": [
    "dir(sm_config)"
   ]
  },
  {
   "cell_type": "code",
   "execution_count": 31,
   "id": "eef92ebc-0072-4ab4-90bd-fe7397489f2b",
   "metadata": {},
   "outputs": [],
   "source": [
    "class SmallMoleculePipeline:\n",
    "    # TODO: Track the stage\n",
    "    # TODO: serialize\n",
    "    # TODO: factory model?\n",
    "    def __init__(self, config: SmallMoleculePipelineInputConfig):\n",
    "        self.config = config\n",
    "        self.inputs = (\n",
    "            config.inputs if isinstance(config.inputs, list) else [config.inputs]\n",
    "        )\n",
    "        self.prep_config = config.prep_config if config.prep_config else None\n",
    "\n",
    "    def load(self):\n",
    "        self.loaded_mols = []\n",
    "        for input in self.inputs:\n",
    "            mol = load_file(input.path)\n",
    "            mol.name = input.name\n",
    "            self.loaded_mols.append(mol)\n",
    "\n",
    "    def prep(self):\n",
    "        # run bespokefit here\n",
    "        pass\n",
    "\n",
    "    def pack(self):\n",
    "        # build the box here\n",
    "        pass\n",
    "\n",
    "    def simulate(self):\n",
    "        # run simulation here\n",
    "        pass\n",
    "\n",
    "    def analyize(self):\n",
    "        # run analysis here\n",
    "        pass"
   ]
  },
  {
   "cell_type": "code",
   "execution_count": 32,
   "id": "1d067535-974e-46e4-94a6-3246a9110202",
   "metadata": {},
   "outputs": [],
   "source": [
    "smp = SmallMoleculePipeline(sm_config)"
   ]
  },
  {
   "cell_type": "code",
   "execution_count": 33,
   "id": "4bd14874-df95-4bad-a8ad-49512122df3b",
   "metadata": {},
   "outputs": [],
   "source": [
    "smp.load()"
   ]
  },
  {
   "cell_type": "code",
   "execution_count": 34,
   "id": "65e6beb0-f548-4244-a4a9-76dfda5ebfe0",
   "metadata": {},
   "outputs": [],
   "source": [
    "mol = Molecule.from_file(sm_input.path)\n",
    "mol.name = sm_input.name"
   ]
  },
  {
   "cell_type": "code",
   "execution_count": 35,
   "id": "d873474f-d2ec-4054-b79b-1e65f5b9838a",
   "metadata": {},
   "outputs": [
    {
     "data": {
      "text/plain": [
       "'ibuprofen'"
      ]
     },
     "execution_count": 35,
     "metadata": {},
     "output_type": "execute_result"
    }
   ],
   "source": [
    "mol.name"
   ]
  },
  {
   "cell_type": "code",
   "execution_count": 36,
   "id": "9576ba08-9c36-453d-8c70-8fd8dcd980cb",
   "metadata": {},
   "outputs": [
    {
     "data": {
      "text/plain": [
       "[Molecule with name 'ibuprofen' and SMILES '[H][O][C](=[O])[C@@]([H])([c]1[c]([H])[c]([H])[c]([C]([H])([H])[C]([H])([C]([H])([H])[H])[C]([H])([H])[H])[c]([H])[c]1[H])[C]([H])([H])[H]',\n",
       " Molecule with name 'ibuprofen' and SMILES '[H][O][C](=[O])[C@@]([H])([c]1[c]([H])[c]([H])[c]([C]([H])([H])[C]([H])([C]([H])([H])[H])[C]([H])([H])[H])[c]([H])[c]1[H])[C]([H])([H])[H]']"
      ]
     },
     "execution_count": 36,
     "metadata": {},
     "output_type": "execute_result"
    }
   ],
   "source": [
    "smp.loaded_mols"
   ]
  },
  {
   "cell_type": "code",
   "execution_count": 40,
   "id": "76748fdc-e3be-440b-b878-bf4a8e00518f",
   "metadata": {},
   "outputs": [
    {
     "name": "stdout",
     "output_type": "stream",
     "text": [
      "None\n"
     ]
    }
   ],
   "source": [
    "print(smp.prep_config)"
   ]
  },
  {
   "cell_type": "code",
   "execution_count": null,
   "id": "a3c404b8-97f3-4a29-b003-1cccd8dbdc01",
   "metadata": {},
   "outputs": [],
   "source": []
  }
 ],
 "metadata": {
  "kernelspec": {
   "display_name": "Python 3 (ipykernel)",
   "language": "python",
   "name": "python3"
  },
  "language_info": {
   "codemirror_mode": {
    "name": "ipython",
    "version": 3
   },
   "file_extension": ".py",
   "mimetype": "text/x-python",
   "name": "python",
   "nbconvert_exporter": "python",
   "pygments_lexer": "ipython3",
   "version": "3.11.10"
  }
 },
 "nbformat": 4,
 "nbformat_minor": 5
}
