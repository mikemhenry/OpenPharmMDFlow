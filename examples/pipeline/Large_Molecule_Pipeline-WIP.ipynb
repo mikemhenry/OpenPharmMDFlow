{
 "cells": [
  {
   "cell_type": "markdown",
   "id": "fc3ea0e8-57da-4a41-8f24-a5290beed474",
   "metadata": {},
   "source": [
    "# Small Molecule Pipeline"
   ]
  },
  {
   "cell_type": "code",
   "execution_count": 1,
   "id": "3637a8b5-067b-4956-a7ae-a1621a51feb6",
   "metadata": {},
   "outputs": [
    {
     "data": {
      "application/vnd.jupyter.widget-view+json": {
       "model_id": "28e68808dad84d488906b3385323b939",
       "version_major": 2,
       "version_minor": 0
      },
      "text/plain": []
     },
     "metadata": {},
     "output_type": "display_data"
    }
   ],
   "source": [
    "from openpharmmdflow.pipeline.sm.pipeline_settings import *\n",
    "from openpharmmdflow.pipeline.sm.pipeline import SmallMoleculePipeline\n",
    "from openff.interchange.components._packmol import UNIT_CUBE, RHOMBIC_DODECAHEDRON\n",
    "import nglview"
   ]
  },
  {
   "cell_type": "markdown",
   "id": "1631890b-e4c8-4b7d-a37f-e01d52dd2bc0",
   "metadata": {},
   "source": [
    "First we create the pipeline config settings object"
   ]
  },
  {
   "cell_type": "code",
   "execution_count": 25,
   "id": "20c72ac0-ae52-4dd1-a9d5-c7558e83932f",
   "metadata": {},
   "outputs": [],
   "source": [
    "# Any file supported by openff-toolkit or cif\n",
    "input = {\n",
    "    \"name\": \"humira\",\n",
    "    \"path\": \"/home/mmh/Projects/OpenPharmMDFlow/openpharmmdflow/tests/io/data/MCL1_no_water.pdb\",\n",
    "}\n",
    "# input = {\"name\": \"humira\", \"path\": \"/home/mmh/Projects/OpenPharmMDFlow/examples/large_molecules/CGMD/humera/20240627_humira_noglyco_ph6.pdb\"}\n",
    "\n",
    "\n",
    "sm_input = SmallMoleculePipelineInputConfig(**input)\n",
    "\n",
    "settings = {\n",
    "    # Not used right now\n",
    "    \"work_dir\": \"/home/mmh/Projects/OpenPharmMDFlow/experiments/sm/scratch\",\n",
    "    \"inputs\": sm_input,\n",
    "    \"prep_config\": SmallMoleculePipelinePrepConfig(\n",
    "        bespokefit_config=BespokefitConfig(\n",
    "            bespoke_workflow_factory_config=BespokeWorkflowFactoryConfig(),\n",
    "            bespoke_executor_config=BespokeExecutorConfig(),\n",
    "            mol_to_bespoke=\"humira\",\n",
    "        )\n",
    "    ),\n",
    "    \"pack_config\": SmallMoleculePipelinePackConfig(\n",
    "        molecule_names=[\"humira\"], number_of_copies=[1], mass_density=0.1\n",
    "    ),\n",
    "    \"parameterize_config\": SmallMoleculePipelineParameterizeConfig(\n",
    "        force_field=\"ff14sb_off_impropers_0.0.3.offxml\"\n",
    "    ),\n",
    "    \"simulate_config\": SmallMoleculePipelineSimulateConfig(),\n",
    "    \"analyize_config\": SmallMoleculePipelineAnalyizeConfig(),\n",
    "    \"solvate_config\": SmallMoleculePipelineSolvateConfig(\n",
    "        nacl_conc=Quantity(0.1, \"mole / liter\"),\n",
    "        padding=Quantity(1.2, \"nanometer\"),\n",
    "        box_shape=RHOMBIC_DODECAHEDRON,\n",
    "        target_density=Quantity(0.9, \"gram / milliliter\"),\n",
    "        tolerance=Quantity(2.0, \"angstrom\"),\n",
    "    ),\n",
    "}\n",
    "sm_config = SmallMoleculePipelineConfig(**settings)"
   ]
  },
  {
   "cell_type": "code",
   "execution_count": null,
   "id": "4dde2bd8-60e6-487b-894d-1bece4ae4d17",
   "metadata": {},
   "outputs": [],
   "source": []
  },
  {
   "cell_type": "markdown",
   "id": "d1ceb998-3b82-493b-a4d1-e0cc2b3a5d13",
   "metadata": {},
   "source": [
    "## Now we can create our pipeline object"
   ]
  },
  {
   "cell_type": "code",
   "execution_count": 26,
   "id": "b85ccc8a-7913-4fcc-83fc-d6330bd6111e",
   "metadata": {},
   "outputs": [],
   "source": [
    "smp = SmallMoleculePipeline(sm_config)"
   ]
  },
  {
   "cell_type": "code",
   "execution_count": 27,
   "id": "3a96f1a8-1c8a-42f9-b865-d48eccb42e1a",
   "metadata": {},
   "outputs": [],
   "source": [
    "smp.load()"
   ]
  },
  {
   "cell_type": "markdown",
   "id": "94143026-84e6-4074-b635-82982b166da3",
   "metadata": {},
   "source": [
    "Prep will run bespoke fit"
   ]
  },
  {
   "cell_type": "code",
   "execution_count": 28,
   "id": "dc6da737-25d8-495f-94ce-fa1f7211d7f5",
   "metadata": {},
   "outputs": [],
   "source": [
    "# smp.prep()"
   ]
  },
  {
   "cell_type": "code",
   "execution_count": 29,
   "id": "f68c7e13-e24a-4d3b-bc9d-775e7ef0bb1d",
   "metadata": {},
   "outputs": [],
   "source": [
    "smp.pack()"
   ]
  },
  {
   "cell_type": "markdown",
   "id": "daa070a9-dcfc-4db4-86f4-2dbc6037f08a",
   "metadata": {},
   "source": [
    "We can view the topology"
   ]
  },
  {
   "cell_type": "code",
   "execution_count": 30,
   "id": "2e57d237-5120-4f9c-b4d5-24e2cd9e0822",
   "metadata": {},
   "outputs": [
    {
     "data": {
      "application/vnd.jupyter.widget-view+json": {
       "model_id": "d56730e5a83e47f9863058a626da54e8",
       "version_major": 2,
       "version_minor": 0
      },
      "text/plain": [
       "NGLWidget()"
      ]
     },
     "metadata": {},
     "output_type": "display_data"
    }
   ],
   "source": [
    "smp.topology.to_file(\"system.pdb\")\n",
    "nglview.show_structure_file(\"system.pdb\")"
   ]
  },
  {
   "cell_type": "code",
   "execution_count": 31,
   "id": "3dd15b53-7e43-45b5-ac18-4969167eec36",
   "metadata": {},
   "outputs": [],
   "source": [
    "smp.solvate()"
   ]
  },
  {
   "cell_type": "code",
   "execution_count": 33,
   "id": "2982f0b3-59fa-41cd-af07-09b7ee3e9aff",
   "metadata": {},
   "outputs": [
    {
     "data": {
      "application/vnd.jupyter.widget-view+json": {
       "model_id": "fe201f4a91db4360b935c6a2c05dd2bb",
       "version_major": 2,
       "version_minor": 0
      },
      "text/plain": [
       "NGLWidget()"
      ]
     },
     "metadata": {},
     "output_type": "display_data"
    }
   ],
   "source": [
    "smp.topology.to_file(\"system.pdb\")\n",
    "nglview.show_structure_file(\"system.pdb\")"
   ]
  },
  {
   "cell_type": "code",
   "execution_count": null,
   "id": "5cf23d74-a55e-4d03-8a9d-511c505f1c4f",
   "metadata": {},
   "outputs": [],
   "source": [
    "smp.parameterize()"
   ]
  },
  {
   "cell_type": "code",
   "execution_count": 12,
   "id": "d7c2b727-1ef0-432a-be02-9c004c4d50c4",
   "metadata": {},
   "outputs": [
    {
     "data": {
      "application/vnd.jupyter.widget-view+json": {
       "model_id": "de9a34e3d6fc4d50b714e102b478e1c6",
       "version_major": 2,
       "version_minor": 0
      },
      "text/plain": [
       "NGLWidget()"
      ]
     },
     "metadata": {},
     "output_type": "display_data"
    }
   ],
   "source": [
    "# smp.interchange.visualize(\"nglview\")"
   ]
  },
  {
   "cell_type": "code",
   "execution_count": 13,
   "id": "3f1fe01b-93e1-44c5-9429-ba3348d2a5af",
   "metadata": {},
   "outputs": [
    {
     "name": "stdout",
     "output_type": "stream",
     "text": [
      "Starting simulation\n",
      "Step, volume (nm^3)\n",
      "0 284.391\n",
      "500 294.114\n",
      "1000 299.106\n",
      "1500 280.749\n",
      "2000 258.811\n",
      "2500 243.191\n",
      "3000 229.999\n",
      "3500 218.036\n",
      "4000 212.131\n",
      "4500 193.469\n",
      "Elapsed time: 3.07 seconds\n"
     ]
    }
   ],
   "source": [
    "smp.simulate()"
   ]
  },
  {
   "cell_type": "code",
   "execution_count": 22,
   "id": "bad69046-eecf-4eeb-9996-d7a60dfe8d5e",
   "metadata": {},
   "outputs": [],
   "source": [
    "from openpharmmdflow.io.load import load_file"
   ]
  },
  {
   "cell_type": "code",
   "execution_count": 2,
   "id": "7105f2b9-8bfa-4863-98cc-18c86a851d38",
   "metadata": {},
   "outputs": [],
   "source": [
    "# topo = load_file(\"/home/mmh/Projects/OpenPharmMDFlow/examples/large_molecules/CGMD/humera/20240627_humira_noglyco_ph6.pdb\")\n",
    "topo = load_file(\n",
    "    \"/home/mmh/Projects/OpenPharmMDFlow/openpharmmdflow/tests/io/data/MCL1.pdb\"\n",
    ")"
   ]
  },
  {
   "cell_type": "code",
   "execution_count": 3,
   "id": "1c0244c0-cc68-4331-ae40-af936b29f104",
   "metadata": {},
   "outputs": [
    {
     "data": {
      "text/plain": [
       "openff.toolkit.topology.molecule.Molecule"
      ]
     },
     "execution_count": 3,
     "metadata": {},
     "output_type": "execute_result"
    }
   ],
   "source": [
    "type(topo)"
   ]
  },
  {
   "cell_type": "code",
   "execution_count": null,
   "id": "b30c1ef7-6877-4d71-b86f-509e0c42fcbb",
   "metadata": {},
   "outputs": [],
   "source": [
    "topo.n_molecules"
   ]
  },
  {
   "cell_type": "code",
   "execution_count": 15,
   "id": "42bb6c49-04ed-4453-baea-e2159773c0f5",
   "metadata": {},
   "outputs": [
    {
     "name": "stdout",
     "output_type": "stream",
     "text": [
      "20258\n"
     ]
    }
   ],
   "source": [
    "for mol in topo.molecules:\n",
    "    print(mol.n_atoms)"
   ]
  },
  {
   "cell_type": "code",
   "execution_count": 16,
   "id": "556e9e69-e46b-409a-a76e-74dd07b082a0",
   "metadata": {},
   "outputs": [],
   "source": [
    "protein = topo.molecule(0)"
   ]
  },
  {
   "cell_type": "code",
   "execution_count": 14,
   "id": "660b0dfa-df2b-495c-9897-de2fc754810b",
   "metadata": {},
   "outputs": [
    {
     "data": {
      "text/plain": [
       "openff.toolkit.topology.molecule.Molecule"
      ]
     },
     "execution_count": 14,
     "metadata": {},
     "output_type": "execute_result"
    }
   ],
   "source": [
    "type(protein)"
   ]
  },
  {
   "cell_type": "code",
   "execution_count": 12,
   "id": "8f2fbf56-ba07-476e-a515-7bd2f99da617",
   "metadata": {},
   "outputs": [],
   "source": [
    "# protein.visualize(backend=\"nglview\")"
   ]
  },
  {
   "cell_type": "code",
   "execution_count": 9,
   "id": "1edea3d0-6a2e-4a02-ad32-2807b4dff9dc",
   "metadata": {},
   "outputs": [],
   "source": [
    "from openff.interchange.components._packmol import UNIT_CUBE, RHOMBIC_DODECAHEDRON"
   ]
  },
  {
   "cell_type": "code",
   "execution_count": 15,
   "id": "dcdf5cf8-67e8-43ee-8698-29e779129d21",
   "metadata": {},
   "outputs": [
    {
     "data": {
      "text/plain": [
       "(3, 3)"
      ]
     },
     "execution_count": 15,
     "metadata": {},
     "output_type": "execute_result"
    }
   ],
   "source": [
    "RHOMBIC_DODECAHEDRON.shape"
   ]
  },
  {
   "cell_type": "code",
   "execution_count": 14,
   "id": "bec4ba8a-df5a-494c-b6f7-3ad2dd8a4f77",
   "metadata": {},
   "outputs": [
    {
     "data": {
      "text/plain": [
       "(3, 3)"
      ]
     },
     "execution_count": 14,
     "metadata": {},
     "output_type": "execute_result"
    }
   ],
   "source": [
    "UNIT_CUBE.shape"
   ]
  },
  {
   "cell_type": "code",
   "execution_count": null,
   "id": "986abc04-2270-4929-801b-a53c2a633590",
   "metadata": {},
   "outputs": [],
   "source": []
  }
 ],
 "metadata": {
  "kernelspec": {
   "display_name": "Python 3 (ipykernel)",
   "language": "python",
   "name": "python3"
  },
  "language_info": {
   "codemirror_mode": {
    "name": "ipython",
    "version": 3
   },
   "file_extension": ".py",
   "mimetype": "text/x-python",
   "name": "python",
   "nbconvert_exporter": "python",
   "pygments_lexer": "ipython3",
   "version": "3.12.8"
  }
 },
 "nbformat": 4,
 "nbformat_minor": 5
}
